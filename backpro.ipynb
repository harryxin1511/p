{
 "cells": [
  {
   "cell_type": "code",
   "execution_count": 1,
   "id": "7ad9ff7e-a44c-44b3-a366-e65b7cfa2166",
   "metadata": {},
   "outputs": [],
   "source": [
    "import torch "
   ]
  },
  {
   "cell_type": "code",
   "execution_count": 2,
   "id": "a099b17f-28ae-447e-9069-16f10a973171",
   "metadata": {},
   "outputs": [],
   "source": [
    "x = torch.tensor(1.0)"
   ]
  },
  {
   "cell_type": "code",
   "execution_count": 3,
   "id": "3a1f39d8-6268-4f85-915c-ffe8f3e891c5",
   "metadata": {},
   "outputs": [],
   "source": [
    "y = torch.tensor(2.0)"
   ]
  },
  {
   "cell_type": "code",
   "execution_count": 5,
   "id": "3de7bbb2-e124-42e7-a722-5c2a19ab3973",
   "metadata": {},
   "outputs": [],
   "source": [
    "w = torch.tensor(1.0,requires_grad = True)"
   ]
  },
  {
   "cell_type": "code",
   "execution_count": null,
   "id": "d3667b58-e401-4fc1-ba71-4294928e65c8",
   "metadata": {},
   "outputs": [],
   "source": []
  },
  {
   "cell_type": "code",
   "execution_count": 8,
   "id": "e5a273ad-b7fc-4770-aa04-13a91536c329",
   "metadata": {},
   "outputs": [],
   "source": [
    "# foward pass"
   ]
  },
  {
   "cell_type": "code",
   "execution_count": 9,
   "id": "a8d3ffcf-b4d2-4149-80c1-c42cdd890d32",
   "metadata": {},
   "outputs": [],
   "source": [
    "y_hat = w*x"
   ]
  },
  {
   "cell_type": "code",
   "execution_count": 12,
   "id": "f6abdcdc-5a81-453a-ba17-bd3f71a2b7b0",
   "metadata": {},
   "outputs": [],
   "source": [
    "loss = (y_hat-y)**2"
   ]
  },
  {
   "cell_type": "code",
   "execution_count": 13,
   "id": "a0b8b30a-3c65-471c-952e-9590bf399d1e",
   "metadata": {},
   "outputs": [
    {
     "data": {
      "text/plain": [
       "tensor(1., grad_fn=<PowBackward0>)"
      ]
     },
     "execution_count": 13,
     "metadata": {},
     "output_type": "execute_result"
    }
   ],
   "source": [
    "loss"
   ]
  },
  {
   "cell_type": "code",
   "execution_count": 14,
   "id": "ca320f06-c42f-444e-95a2-d5f202653fcd",
   "metadata": {},
   "outputs": [],
   "source": [
    "#backward"
   ]
  },
  {
   "cell_type": "code",
   "execution_count": 15,
   "id": "b55c41d6-39af-463f-9943-c13e1600786b",
   "metadata": {},
   "outputs": [],
   "source": [
    "loss.backward()"
   ]
  },
  {
   "cell_type": "code",
   "execution_count": 17,
   "id": "1987db8c-42e7-42fe-af7b-fae66a91b69f",
   "metadata": {},
   "outputs": [
    {
     "name": "stdout",
     "output_type": "stream",
     "text": [
      "tensor(-2.)\n"
     ]
    }
   ],
   "source": [
    "print(w.grad)"
   ]
  },
  {
   "cell_type": "code",
   "execution_count": null,
   "id": "2b4acf8a-ca96-4c9b-a41d-804c28beded6",
   "metadata": {},
   "outputs": [],
   "source": [
    "### update\n",
    "### "
   ]
  }
 ],
 "metadata": {
  "kernelspec": {
   "display_name": "PyCharm (D2l)",
   "language": "python",
   "name": "pycharm-e04b5b03"
  },
  "language_info": {
   "codemirror_mode": {
    "name": "ipython",
    "version": 3
   },
   "file_extension": ".py",
   "mimetype": "text/x-python",
   "name": "python",
   "nbconvert_exporter": "python",
   "pygments_lexer": "ipython3",
   "version": "3.8.8"
  }
 },
 "nbformat": 4,
 "nbformat_minor": 5
}
