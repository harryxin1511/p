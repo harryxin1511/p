{
 "cells": [
  {
   "cell_type": "code",
   "execution_count": 181,
   "id": "abca99d2-cc10-4cca-92a0-7544efa2b31a",
   "metadata": {},
   "outputs": [],
   "source": [
    "import torch"
   ]
  },
  {
   "cell_type": "code",
   "execution_count": 182,
   "id": "93bc2a68-945f-48d3-b269-e5c7fdc2b411",
   "metadata": {},
   "outputs": [],
   "source": [
    "import torch.nn as nn"
   ]
  },
  {
   "cell_type": "code",
   "execution_count": 183,
   "id": "9a47db28-69cb-46d1-9211-77a36afbd5d1",
   "metadata": {},
   "outputs": [],
   "source": [
    "#f = 2 * x\n",
    "# 1 ) Design model (input,output size ,,forward pass)\n",
    "# 2 construct loss and optimizer\n",
    "# 3 training loop\n",
    "#   -forward pass compute predition\n",
    "#   -backward pass compute\n",
    "#   -update weightes"
   ]
  },
  {
   "cell_type": "code",
   "execution_count": 219,
   "id": "3be6c0df-bd7e-4011-a645-d0e934ee7360",
   "metadata": {},
   "outputs": [],
   "source": [
    "x = torch.tensor([[1],[2],[3],[4]],dtype = torch.float32)"
   ]
  },
  {
   "cell_type": "code",
   "execution_count": 220,
   "id": "7e65982d-fc4e-4dff-b908-e57b87dc0df5",
   "metadata": {},
   "outputs": [],
   "source": [
    "y = torch.tensor([[2],[4],[6],[8]],dtype = torch.float32)"
   ]
  },
  {
   "cell_type": "code",
   "execution_count": 221,
   "id": "4e9f16d3-d725-4bb8-98e4-aab4e00638fc",
   "metadata": {},
   "outputs": [
    {
     "name": "stdout",
     "output_type": "stream",
     "text": [
      "torch.Size([4, 1]) torch.Size([4, 1])\n"
     ]
    }
   ],
   "source": [
    "print(x.shape,y.shape)"
   ]
  },
  {
   "cell_type": "code",
   "execution_count": 222,
   "id": "3a067ae1-128a-4b0c-8115-985e84d888c9",
   "metadata": {},
   "outputs": [],
   "source": [
    "inputsize,outputsize = x.shape"
   ]
  },
  {
   "cell_type": "code",
   "execution_count": null,
   "id": "c866945a-b671-442a-86ad-85386e369136",
   "metadata": {},
   "outputs": [],
   "source": []
  },
  {
   "cell_type": "code",
   "execution_count": 223,
   "id": "822d121e-e073-4968-9361-d88ed2965c36",
   "metadata": {},
   "outputs": [],
   "source": [
    "model = nn.Linear(outputsize,outputsize)"
   ]
  },
  {
   "cell_type": "code",
   "execution_count": 224,
   "id": "4208fa4c-30ce-4148-9992-f1531f2cc851",
   "metadata": {},
   "outputs": [
    {
     "name": "stdout",
     "output_type": "stream",
     "text": [
      "4 1\n"
     ]
    }
   ],
   "source": [
    "print(inputsize,outputsize)"
   ]
  },
  {
   "cell_type": "code",
   "execution_count": 225,
   "id": "fde995d4-7588-4abf-8bef-90276ee9037d",
   "metadata": {},
   "outputs": [],
   "source": [
    "loss = nn.MSELoss()"
   ]
  },
  {
   "cell_type": "code",
   "execution_count": 226,
   "id": "5ce42e0f-ee6c-47f6-adad-19506817f38f",
   "metadata": {},
   "outputs": [],
   "source": [
    "# 2x(wx-y)"
   ]
  },
  {
   "cell_type": "code",
   "execution_count": 227,
   "id": "b9e5095e-7dbb-443b-be68-8d5a063de565",
   "metadata": {},
   "outputs": [],
   "source": [
    "optimizer = torch.optim.SGD(model.parameters(),lr = 0.01)# require[],dicts"
   ]
  },
  {
   "cell_type": "code",
   "execution_count": null,
   "id": "4ca8ac46-e43e-46ef-b879-f92c548bf166",
   "metadata": {},
   "outputs": [],
   "source": []
  },
  {
   "cell_type": "code",
   "execution_count": null,
   "id": "1bacd6b4-a3e3-4b1c-9c10-8866d1541089",
   "metadata": {},
   "outputs": [],
   "source": []
  },
  {
   "cell_type": "code",
   "execution_count": 233,
   "id": "1d0c996c-53ae-4640-a825-3b68bc11b236",
   "metadata": {},
   "outputs": [],
   "source": [
    "n_iter = 1000"
   ]
  },
  {
   "cell_type": "code",
   "execution_count": 234,
   "id": "ffa86622-8c6b-4f66-bcfa-137757c8f686",
   "metadata": {},
   "outputs": [
    {
     "name": "stdout",
     "output_type": "stream",
     "text": [
      "epoch 1:w = 1.691,loss = 0.13909777\n",
      "epoch 11:w = 1.700,loss = 0.13100153\n",
      "epoch 21:w = 1.709,loss = 0.12337650\n",
      "epoch 31:w = 1.717,loss = 0.11619533\n",
      "epoch 41:w = 1.726,loss = 0.10943218\n",
      "epoch 51:w = 1.734,loss = 0.10306264\n",
      "epoch 61:w = 1.741,loss = 0.09706388\n",
      "epoch 71:w = 1.749,loss = 0.09141422\n",
      "epoch 81:w = 1.757,loss = 0.08609353\n",
      "epoch 91:w = 1.764,loss = 0.08108236\n",
      "epoch 101:w = 1.771,loss = 0.07636296\n",
      "epoch 111:w = 1.777,loss = 0.07191832\n",
      "epoch 121:w = 1.784,loss = 0.06773227\n",
      "epoch 131:w = 1.790,loss = 0.06378986\n",
      "epoch 141:w = 1.797,loss = 0.06007698\n",
      "epoch 151:w = 1.803,loss = 0.05658021\n",
      "epoch 161:w = 1.808,loss = 0.05328689\n",
      "epoch 171:w = 1.814,loss = 0.05018529\n",
      "epoch 181:w = 1.820,loss = 0.04726430\n",
      "epoch 191:w = 1.825,loss = 0.04451329\n",
      "epoch 201:w = 1.830,loss = 0.04192236\n",
      "epoch 211:w = 1.835,loss = 0.03948229\n",
      "epoch 221:w = 1.840,loss = 0.03718420\n",
      "epoch 231:w = 1.845,loss = 0.03501988\n",
      "epoch 241:w = 1.849,loss = 0.03298152\n",
      "epoch 251:w = 1.854,loss = 0.03106187\n",
      "epoch 261:w = 1.858,loss = 0.02925387\n",
      "epoch 271:w = 1.862,loss = 0.02755117\n",
      "epoch 281:w = 1.866,loss = 0.02594751\n",
      "epoch 291:w = 1.870,loss = 0.02443725\n",
      "epoch 301:w = 1.874,loss = 0.02301488\n",
      "epoch 311:w = 1.878,loss = 0.02167530\n",
      "epoch 321:w = 1.881,loss = 0.02041367\n",
      "epoch 331:w = 1.885,loss = 0.01922549\n",
      "epoch 341:w = 1.888,loss = 0.01810646\n",
      "epoch 351:w = 1.892,loss = 0.01705257\n",
      "epoch 361:w = 1.895,loss = 0.01606005\n",
      "epoch 371:w = 1.898,loss = 0.01512526\n",
      "epoch 381:w = 1.901,loss = 0.01424489\n",
      "epoch 391:w = 1.904,loss = 0.01341575\n",
      "epoch 401:w = 1.907,loss = 0.01263492\n",
      "epoch 411:w = 1.909,loss = 0.01189946\n",
      "epoch 421:w = 1.912,loss = 0.01120687\n",
      "epoch 431:w = 1.915,loss = 0.01055459\n",
      "epoch 441:w = 1.917,loss = 0.00994023\n",
      "epoch 451:w = 1.920,loss = 0.00936165\n",
      "epoch 461:w = 1.922,loss = 0.00881675\n",
      "epoch 471:w = 1.924,loss = 0.00830358\n",
      "epoch 481:w = 1.927,loss = 0.00782024\n",
      "epoch 491:w = 1.929,loss = 0.00736509\n",
      "epoch 501:w = 1.931,loss = 0.00693640\n",
      "epoch 511:w = 1.933,loss = 0.00653266\n",
      "epoch 521:w = 1.935,loss = 0.00615244\n",
      "epoch 531:w = 1.937,loss = 0.00579433\n",
      "epoch 541:w = 1.939,loss = 0.00545706\n",
      "epoch 551:w = 1.941,loss = 0.00513945\n",
      "epoch 561:w = 1.942,loss = 0.00484029\n",
      "epoch 571:w = 1.944,loss = 0.00455857\n",
      "epoch 581:w = 1.946,loss = 0.00429322\n",
      "epoch 591:w = 1.947,loss = 0.00404335\n",
      "epoch 601:w = 1.949,loss = 0.00380801\n",
      "epoch 611:w = 1.950,loss = 0.00358637\n",
      "epoch 621:w = 1.952,loss = 0.00337762\n",
      "epoch 631:w = 1.953,loss = 0.00318102\n",
      "epoch 641:w = 1.955,loss = 0.00299587\n",
      "epoch 651:w = 1.956,loss = 0.00282149\n",
      "epoch 661:w = 1.957,loss = 0.00265728\n",
      "epoch 671:w = 1.958,loss = 0.00250260\n",
      "epoch 681:w = 1.960,loss = 0.00235694\n",
      "epoch 691:w = 1.961,loss = 0.00221975\n",
      "epoch 701:w = 1.962,loss = 0.00209055\n",
      "epoch 711:w = 1.963,loss = 0.00196887\n",
      "epoch 721:w = 1.964,loss = 0.00185427\n",
      "epoch 731:w = 1.965,loss = 0.00174634\n",
      "epoch 741:w = 1.966,loss = 0.00164469\n",
      "epoch 751:w = 1.967,loss = 0.00154897\n",
      "epoch 761:w = 1.968,loss = 0.00145880\n",
      "epoch 771:w = 1.969,loss = 0.00137389\n",
      "epoch 781:w = 1.970,loss = 0.00129393\n",
      "epoch 791:w = 1.971,loss = 0.00121862\n",
      "epoch 801:w = 1.972,loss = 0.00114768\n",
      "epoch 811:w = 1.973,loss = 0.00108088\n",
      "epoch 821:w = 1.974,loss = 0.00101798\n",
      "epoch 831:w = 1.974,loss = 0.00095872\n",
      "epoch 841:w = 1.975,loss = 0.00090292\n",
      "epoch 851:w = 1.976,loss = 0.00085036\n",
      "epoch 861:w = 1.977,loss = 0.00080087\n",
      "epoch 871:w = 1.977,loss = 0.00075425\n",
      "epoch 881:w = 1.978,loss = 0.00071035\n",
      "epoch 891:w = 1.979,loss = 0.00066901\n",
      "epoch 901:w = 1.979,loss = 0.00063006\n",
      "epoch 911:w = 1.980,loss = 0.00059339\n",
      "epoch 921:w = 1.980,loss = 0.00055886\n",
      "epoch 931:w = 1.981,loss = 0.00052632\n",
      "epoch 941:w = 1.982,loss = 0.00049569\n",
      "epoch 951:w = 1.982,loss = 0.00046684\n",
      "epoch 961:w = 1.983,loss = 0.00043967\n",
      "epoch 971:w = 1.983,loss = 0.00041408\n",
      "epoch 981:w = 1.984,loss = 0.00038998\n",
      "epoch 991:w = 1.984,loss = 0.00036727\n"
     ]
    }
   ],
   "source": [
    "for epoch in range(n_iter):\n",
    "    y_pred = model(x)\n",
    "    l = loss(y,y_pred)\n",
    "    l.backward()\n",
    "    optimizer.step()\n",
    "    optimizer.zero_grad()\n",
    "    if epoch%10 == 0:\n",
    "        [w,b] = model.parameters()\n",
    "        print(f'epoch {epoch + 1}:w = {w[0][0]:.3f},loss = {l:.8f}')"
   ]
  },
  {
   "cell_type": "code",
   "execution_count": null,
   "id": "252d25cc-4bdb-4e25-9499-4e5692a40e09",
   "metadata": {},
   "outputs": [],
   "source": []
  },
  {
   "cell_type": "code",
   "execution_count": null,
   "id": "430cf07e-b29a-47ef-be78-68b60438a26a",
   "metadata": {},
   "outputs": [],
   "source": []
  }
 ],
 "metadata": {
  "kernelspec": {
   "display_name": "PyCharm (D2l)",
   "language": "python",
   "name": "pycharm-e04b5b03"
  },
  "language_info": {
   "codemirror_mode": {
    "name": "ipython",
    "version": 3
   },
   "file_extension": ".py",
   "mimetype": "text/x-python",
   "name": "python",
   "nbconvert_exporter": "python",
   "pygments_lexer": "ipython3",
   "version": "3.8.8"
  }
 },
 "nbformat": 4,
 "nbformat_minor": 5
}
