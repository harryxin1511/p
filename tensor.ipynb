{
 "cells": [
  {
   "cell_type": "code",
   "execution_count": 1,
   "id": "c3f1729b-ee85-422a-80fb-40382fcf93c7",
   "metadata": {},
   "outputs": [],
   "source": [
    "import torch "
   ]
  },
  {
   "cell_type": "code",
   "execution_count": 6,
   "id": "bb1d204a-5152-4e0f-897c-e59bc0202899",
   "metadata": {},
   "outputs": [],
   "source": [
    "x = torch.empty([2,3]) #torch.empty 创建任意类型的张量"
   ]
  },
  {
   "cell_type": "code",
   "execution_count": 7,
   "id": "c0ecd968-09bb-4fbe-a10b-3b0ca8a8ff7c",
   "metadata": {},
   "outputs": [
    {
     "name": "stdout",
     "output_type": "stream",
     "text": [
      "tensor([[-7.5019e-25,  4.5794e-41, -7.5019e-25],\n",
      "        [ 4.5794e-41,  0.0000e+00,  0.0000e+00]])\n"
     ]
    }
   ],
   "source": [
    "print(x)"
   ]
  },
  {
   "cell_type": "code",
   "execution_count": 11,
   "id": "e710c76f-74b4-47e0-b56f-695014511bd7",
   "metadata": {},
   "outputs": [],
   "source": [
    "x = torch.rand(2,2,dtype = torch.double)"
   ]
  },
  {
   "cell_type": "code",
   "execution_count": 12,
   "id": "c7344c40-b961-4b39-b88b-73a964058571",
   "metadata": {},
   "outputs": [
    {
     "name": "stdout",
     "output_type": "stream",
     "text": [
      "tensor([[0.7354, 0.6559],\n",
      "        [0.4141, 0.2399]], dtype=torch.float64)\n"
     ]
    }
   ],
   "source": [
    "print(x)"
   ]
  },
  {
   "cell_type": "markdown",
   "id": "d2aabc17-db86-402f-b0c7-3fca8f7caa39",
   "metadata": {},
   "source": [
    "_在pytorch中表示了原地替换操作"
   ]
  },
  {
   "cell_type": "code",
   "execution_count": 13,
   "id": "841ce104-cda5-425d-93ab-c24029ac072f",
   "metadata": {},
   "outputs": [],
   "source": [
    "x = torch.rand(4,5)"
   ]
  },
  {
   "cell_type": "code",
   "execution_count": 14,
   "id": "e7d18452-d5a6-423c-819f-a39f1ccdfb0b",
   "metadata": {},
   "outputs": [],
   "source": [
    "y = x.view(-1,2,5)"
   ]
  },
  {
   "cell_type": "code",
   "execution_count": 15,
   "id": "e488a270-19dd-444f-827b-451e8127cd4b",
   "metadata": {},
   "outputs": [
    {
     "data": {
      "text/plain": [
       "tensor([[[0.0462, 0.0946, 0.0135, 0.2394, 0.0776],\n",
       "         [0.4529, 0.1173, 0.2020, 0.2593, 0.9893]],\n",
       "\n",
       "        [[0.9884, 0.4655, 0.9721, 0.6239, 0.1646],\n",
       "         [0.7579, 0.3457, 0.2093, 0.4969, 0.1755]]])"
      ]
     },
     "execution_count": 15,
     "metadata": {},
     "output_type": "execute_result"
    }
   ],
   "source": [
    "y"
   ]
  },
  {
   "cell_type": "markdown",
   "id": "dbd86175-024a-425e-b022-94abb0e7c2e2",
   "metadata": {},
   "source": [
    "## torch ->numpy  a.numpy()\n",
    "## numpy ->torch  torch.from_numpy()"
   ]
  },
  {
   "cell_type": "code",
   "execution_count": 17,
   "id": "14893a8c-b225-4693-832a-ff7d20ec774f",
   "metadata": {},
   "outputs": [
    {
     "name": "stdout",
     "output_type": "stream",
     "text": [
      "tensor([1., 1., 1., 1., 1.], device='cuda:0')\n"
     ]
    }
   ],
   "source": [
    "if torch.cuda.is_available():\n",
    "    device = torch.device(\"cuda\")\n",
    "    x = torch.ones(5).to(device)\n",
    "    print(x)"
   ]
  },
  {
   "cell_type": "markdown",
   "id": "791fa16f-a1d3-4e27-b3dd-99045229987c",
   "metadata": {},
   "source": [
    "## numpy不能在gpu上运行tensor"
   ]
  },
  {
   "cell_type": "code",
   "execution_count": null,
   "id": "5cd9b4b6-28f5-48fa-8e33-082e72ef0d13",
   "metadata": {},
   "outputs": [],
   "source": []
  }
 ],
 "metadata": {
  "kernelspec": {
   "display_name": "PyCharm (D2l)",
   "language": "python",
   "name": "pycharm-e04b5b03"
  },
  "language_info": {
   "codemirror_mode": {
    "name": "ipython",
    "version": 3
   },
   "file_extension": ".py",
   "mimetype": "text/x-python",
   "name": "python",
   "nbconvert_exporter": "python",
   "pygments_lexer": "ipython3",
   "version": "3.8.8"
  }
 },
 "nbformat": 4,
 "nbformat_minor": 5
}
